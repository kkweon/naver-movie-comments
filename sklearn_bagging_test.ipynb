{
 "cells": [
  {
   "cell_type": "markdown",
   "metadata": {},
   "source": [
    "# Import Lib"
   ]
  },
  {
   "cell_type": "code",
   "execution_count": 1,
   "metadata": {
    "collapsed": false
   },
   "outputs": [],
   "source": [
    "import sqlite3 as db\n",
    "import pandas as pd\n",
    "import numpy as np\n",
    "import pickle\n",
    "import matplotlib.pyplot as plt\n",
    "from matplotlib import font_manager, rc, style\n",
    "from sklearn.feature_extraction.text import CountVectorizer\n",
    "from sklearn.cross_validation import train_test_split\n",
    "from sklearn.svm import SVC\n",
    "from sklearn import linear_model, neural_network\n",
    "from sklearn.ensemble import BaggingClassifier\n",
    "%load_ext autoreload\n",
    "%autoreload 2\n",
    "%matplotlib inline"
   ]
  },
  {
   "cell_type": "code",
   "execution_count": 2,
   "metadata": {
    "collapsed": false
   },
   "outputs": [],
   "source": [
    "font = font_manager.FontProperties(fname=\"/Library/Fonts/NanumGothic.ttc\").get_name()\n",
    "rc('font', family=font)\n",
    "style.use('ggplot')"
   ]
  },
  {
   "cell_type": "code",
   "execution_count": 3,
   "metadata": {
    "collapsed": true
   },
   "outputs": [],
   "source": [
    "USE_PICKLE    = True\n",
    "SKIP_RAW_DATA = True"
   ]
  },
  {
   "cell_type": "markdown",
   "metadata": {},
   "source": [
    "# Data load (Use pickle instead)\n",
    "db.pkl"
   ]
  },
  {
   "cell_type": "code",
   "execution_count": 4,
   "metadata": {
    "collapsed": true
   },
   "outputs": [],
   "source": [
    "if not USE_PICKLE and data is None and not SKIP_RAW_DATA:\n",
    "    DB_PATH = \"./data.db\"\n",
    "    conn = db.connect(DB_PATH)\n",
    "    data = pd.read_sql(\"select * from comments order by random()\", conn)\n",
    "    data = data.set_index('index')\n",
    "    pickle.dump(data, file=open(\"db.pkl\", \"wb\"))"
   ]
  },
  {
   "cell_type": "code",
   "execution_count": 5,
   "metadata": {
    "collapsed": false
   },
   "outputs": [],
   "source": [
    "if USE_PICKLE and not SKIP_RAW_DATA:\n",
    "    data = pickle.load(open(\"db.pkl\", \"rb\"))"
   ]
  },
  {
   "cell_type": "markdown",
   "metadata": {},
   "source": [
    "# Train/Validation/Test Split"
   ]
  },
  {
   "cell_type": "code",
   "execution_count": 6,
   "metadata": {
    "collapsed": false
   },
   "outputs": [],
   "source": [
    "if not USE_PICKLE and not SKIP_RAW_DATA:\n",
    "    data['X_train'], X_test, data['y_train'], y_test = train_test_split(data['comment'].values, data['rating'].values.astype('int64'), test_size=0.40)\n",
    "    data['X_val'], data['X_test'], data['y_val'], data['y_test'] = train_test_split(X_test, y_test, test_size=0.50)\n",
    "    print(\"X_train.shape     : {}\\t\\t\\t y_train.shape: {}\".format(data['X_train'].shape, data['y_train'].shape))\n",
    "    print(\"X_validation.shape: {}\\t\\t\\t y_validation.shape: {}\".format(data['X_val'].shape, data['y_val'].shape))\n",
    "    print(\"X_test.shape      : {}\\t\\t\\t y_test.shape: {}\".format(data['X_test'].shape, data['y_test'].shape))"
   ]
  },
  {
   "cell_type": "code",
   "execution_count": 7,
   "metadata": {
    "collapsed": false
   },
   "outputs": [],
   "source": [
    "if not USE_PICKLE and not SKIP_RAW_DATA:\n",
    "    data = dict()\n",
    "    data['X_train'] = X_train\n",
    "    data['y_train'] = y_train\n",
    "    data['X_test']  = X_test\n",
    "    data['y_test']  = y_test\n",
    "    data['X_val']   = X_val\n",
    "    data['y_val']   = y_val\n",
    "    pickle.dump(data, file=open(\"train_val_test.pkl\", \"wb\"))"
   ]
  },
  {
   "cell_type": "code",
   "execution_count": 8,
   "metadata": {
    "collapsed": true
   },
   "outputs": [],
   "source": [
    "if USE_PICKLE and SKIP_RAW_DATA:\n",
    "    data = pickle.load(open(\"train_val_test.pkl\", \"rb\"))"
   ]
  },
  {
   "cell_type": "code",
   "execution_count": 118,
   "metadata": {
    "collapsed": false
   },
   "outputs": [],
   "source": [
    "def get_distribution(y_data):\n",
    "    rating_distribution = np.bincount(y_data)\n",
    "    rating_distribution = rating_distribution / np.sum(rating_distribution)\n",
    "    rating_distribution = rating_distribution[1:]\n",
    "    return rating_distribution\n",
    "\n",
    "def plot_distribution(rating_distribution):\n",
    "    plt.bar(np.arange(10)+1, height=rating_distribution, align='center')\n",
    "    plt.xticks(np.arange(10)+1)\n",
    "    plt.grid('on')\n",
    "    plt.title(u\"Naver Moving Rating\")\n",
    "    plt.show()\n",
    "    \n",
    "def feature_normalize(X):    \n",
    "    mean = np.mean(X, axis=0)\n",
    "    std = np.std(X, axis=0)\n",
    "    X_norm = (X - mean) / (std)\n",
    "    \n",
    "    return X_norm, mean, std\n",
    "\n",
    "def normalize_with_train(X, mean, std):\n",
    "    return (X - mean) / std\n",
    "\n",
    "def vectorize(X, std):\n",
    "    test = np.zeros_like(X)    \n",
    "    test[X >= 0.1 * std] = 1\n",
    "    test[X < -0.1 * std] = -1\n",
    "    return test"
   ]
  },
  {
   "cell_type": "code",
   "execution_count": 143,
   "metadata": {
    "collapsed": false
   },
   "outputs": [
    {
     "data": {
      "image/png": "[encoded data removed]",
      "text/plain": [
       "<matplotlib.figure.Figure at 0x13f61b320>"
      ]
     },
     "metadata": {},
     "output_type": "display_data"
    }
   ],
   "source": [
    "plt.hist(data['y_train'], bins=10, range=(1, 10), align='mid')\n",
    "plt.xlabel(\"Movie Rating\")\n",
    "plt.ylabel(\"Counts\")\n",
    "plt.show()"
   ]
  },
  {
   "cell_type": "markdown",
   "metadata": {},
   "source": [
    "# Tokenizer and Vectorization"
   ]
  },
  {
   "cell_type": "code",
   "execution_count": 144,
   "metadata": {
    "collapsed": true
   },
   "outputs": [],
   "source": [
    "def tokenizer(sentences):\n",
    "    return sentences.strip().split()\n",
    "\n",
    "def predict_or_acc(model, vectorizer, X_data, y_data=None):\n",
    "    test_word_vec = vectorizer.transform(X_data)\n",
    "    y_pred = model.predict(test_word_vec)\n",
    "    if y_data is None:\n",
    "        return y_pred\n",
    "    else:\n",
    "        return get_accuracy(y_pred, y_data)\n",
    "\n",
    "def get_accuracy(y_pred, y_data):\n",
    "    return np.mean(y_pred == y_data)\n",
    "\n",
    "def 긍부정_판별기(문장):\n",
    "    print(\"INPUT: {}\".format(문장))\n",
    "    result = predict_or_acc(model, vectorizer, [문장])[0]\n",
    "    if result > 0:\n",
    "        result = \"긍정\"\n",
    "    elif result < 0:\n",
    "        result = \"부정\"\n",
    "    else:\n",
    "        result = \"\"\n",
    "    print(\"결과: {}\".format(result))\n",
    "    print(\"\")"
   ]
  },
  {
   "cell_type": "code",
   "execution_count": 145,
   "metadata": {
    "collapsed": true
   },
   "outputs": [],
   "source": [
    "number_samples = 30000\n",
    "small_data = {\n",
    "    \"X_train\": data['X_train'][:number_samples],\n",
    "    \"y_train\": data['y_train'][:number_samples],\n",
    "    \"X_test\" : data['X_test'],\n",
    "    \"y_test\" : data['y_test'],\n",
    "    \"X_val\"  : data['X_val'],\n",
    "    \"y_val\"  : data['y_val']    \n",
    "}"
   ]
  },
  {
   "cell_type": "code",
   "execution_count": 146,
   "metadata": {
    "collapsed": true
   },
   "outputs": [],
   "source": [
    "vectorizer = CountVectorizer(tokenizer=tokenizer)\n",
    "train_word_vectors = vectorizer.fit_transform(small_data['X_train'])\n",
    "y_train_norm, mean, std = feature_normalize((small_data['y_train'].astype(np.float64)))"
   ]
  },
  {
   "cell_type": "code",
   "execution_count": 148,
   "metadata": {
    "collapsed": false
   },
   "outputs": [
    {
     "data": {
      "text/plain": [
       "BaggingClassifier(base_estimator=None, bootstrap=True,\n",
       "         bootstrap_features=False, max_features=1.0, max_samples=1.0,\n",
       "         n_estimators=10, n_jobs=1, oob_score=False, random_state=None,\n",
       "         verbose=0, warm_start=False)"
      ]
     },
     "execution_count": 148,
     "metadata": {},
     "output_type": "execute_result"
    }
   ],
   "source": [
    "model = BaggingClassifier()\n",
    "model.fit(train_word_vectors, vectorize(y_train_norm, std))"
   ]
  },
  {
   "cell_type": "code",
   "execution_count": 149,
   "metadata": {
    "collapsed": false
   },
   "outputs": [
    {
     "data": {
      "text/plain": [
       "0.96776666666666666"
      ]
     },
     "execution_count": 149,
     "metadata": {},
     "output_type": "execute_result"
    }
   ],
   "source": [
    "predict_or_acc(model, vectorizer, small_data['X_train'], vectorize(normalize_with_train(small_data['y_train'], mean, std), std))"
   ]
  },
  {
   "cell_type": "code",
   "execution_count": 150,
   "metadata": {
    "collapsed": false
   },
   "outputs": [
    {
     "data": {
      "text/plain": [
       "0.66773387658452255"
      ]
     },
     "execution_count": 150,
     "metadata": {},
     "output_type": "execute_result"
    }
   ],
   "source": [
    "predict_or_acc(model, vectorizer, small_data['X_val'], vectorize(normalize_with_train(small_data['y_val'], mean, std), std))"
   ]
  },
  {
   "cell_type": "code",
   "execution_count": 167,
   "metadata": {
    "collapsed": false
   },
   "outputs": [
    {
     "name": "stdout",
     "output_type": "stream",
     "text": [
      "INPUT: 병신 실망 매우 실망 ㅜㅜ 쓰레기\n",
      "결과: 부정\n",
      "\n",
      "INPUT: 개굳 개쩐다\n",
      "결과: 긍정\n",
      "\n",
      "INPUT: 아오 1점도 주기아깝다 알바를 위한 알바에 의한 알바의 영화네  진심재미없네에휴\n",
      "결과: 부정\n",
      "\n",
      "INPUT: 엄두성 재미없다\n",
      "결과: 부정\n",
      "\n",
      "INPUT: 엄두성 잘생겼다\n",
      "결과: 긍정\n",
      "\n"
     ]
    }
   ],
   "source": [
    "stmt = \"병신 실망 매우 실망 ㅜㅜ 쓰레기\"\n",
    "긍부정_판별기(stmt)\n",
    "\n",
    "stmt = \"개굳 개쩐다\"\n",
    "긍부정_판별기(stmt)\n",
    "\n",
    "stmt = \"아오 1점도 주기아깝다 알바를 위한 알바에 의한 알바의 영화네  진심재미없네에휴\"\n",
    "긍부정_판별기(stmt)\n",
    "\n",
    "stmt = \"엄두성 재미없다\"\n",
    "긍부정_판별기(stmt)\n",
    "\n",
    "stmt = \"엄두성 잘생겼다\"\n",
    "긍부정_판별기(stmt)"
   ]
  }
 ],
 "metadata": {
  "kernelspec": {
   "display_name": "Python3",
   "language": "python",
   "name": "python3"
  },
  "language_info": {
   "codemirror_mode": {
    "name": "ipython",
    "version": 3
   },
   "file_extension": ".py",
   "mimetype": "text/x-python",
   "name": "python",
   "nbconvert_exporter": "python",
   "pygments_lexer": "ipython3",
   "version": "3.5.2"
  }
 },
 "nbformat": 4,
 "nbformat_minor": 1
}
